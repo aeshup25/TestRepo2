{
 "cells": [
  {
   "cell_type": "markdown",
   "id": "0d8ed4ae-a31a-4174-9fc4-c440fb8a9bfc",
   "metadata": {},
   "source": [
    "# Data Science Tools and Ecosystem"
   ]
  },
  {
   "cell_type": "markdown",
   "id": "030823ba-ae31-4665-b9e9-3e0e9d6d62d2",
   "metadata": {},
   "source": [
    "In this notebook,Data Science Tools and Ecosystem"
   ]
  },
  {
   "cell_type": "markdown",
   "id": "7c5902c4-5e72-4d8e-b1b5-93602c71d454",
   "metadata": {},
   "source": [
    "Some of the popular languages that Data scientists use are:\n",
    "<ol>1.Python</ol>\n",
    "<ol>2.R</ol>\n",
    "<ol>3.SQL</ol>\n",
    "<ol>4.Java</ol>\n",
    "<ol>5.Julia</ol>"
   ]
  },
  {
   "cell_type": "markdown",
   "id": "dc3224cb-4197-4ffe-9f1b-e5e736bc616c",
   "metadata": {},
   "source": [
    "#### Some of the commonly libraries used by Data Scientists include:\n",
    "<ol>1.Pandas</ol>\n",
    "<ol>2.NumPy</ol>\n",
    "<ol>3.TensorFlow</ol>\n",
    "<ol>4.Matplotlib</ol>\n",
    "<ol>5.Scikit-learn</ol>"
   ]
  },
  {
   "cell_type": "markdown",
   "id": "37129640-1e91-4972-9c1d-d7adfde774e8",
   "metadata": {},
   "source": [
    "| Data Science Tools |\n",
    "|--------------------|\n",
    "| Jupyter Notebook |\n",
    "| RStudio         |\n",
    "| VS Code         |"
   ]
  },
  {
   "cell_type": "markdown",
   "id": "fb163e6b-2d0d-4a69-a91a-d35117658ad6",
   "metadata": {},
   "source": [
    "### Below are the few Examples of evaluating arithmetic expressions in Python."
   ]
  },
  {
   "cell_type": "code",
   "execution_count": 35,
   "id": "87aa01b8-3c0f-4b3f-9606-c1de3f86aa3c",
   "metadata": {},
   "outputs": [
    {
     "name": "stdout",
     "output_type": "stream",
     "text": [
      "17\n"
     ]
    }
   ],
   "source": [
    "# This is the simple arithmetic expression to multiply and add integera.\n",
    "result=(3*4)+5\n",
    "print(result)"
   ]
  },
  {
   "cell_type": "code",
   "execution_count": 37,
   "id": "70c7b4eb-fce0-4805-a058-1ff25c0adf07",
   "metadata": {},
   "outputs": [
    {
     "data": {
      "text/plain": [
       "3.3333333333333335"
      ]
     },
     "execution_count": 37,
     "metadata": {},
     "output_type": "execute_result"
    }
   ],
   "source": [
    "# this will convert  200 minutes to hours by diving by 60.\n",
    "hours=200/60\n",
    "hours"
   ]
  },
  {
   "cell_type": "markdown",
   "id": "05d64ae3-55f7-4282-a559-efbeda4a74cd",
   "metadata": {},
   "source": [
    "**Objectives:**\n",
    " <ul><li> list popular languages for Data Science.</li></ul>\n",
    "<ul><li>Identify commonly used Data Science libraries.</li></ul>\n",
    "<ul><li>Understand key Data Science tool.</li></ul>\n",
    "<ul><li>Perform basic arithmetic operations in Python.</li></ul>\n",
    "<ul><li>Convert time units using Python.</li></ul>"
   ]
  },
  {
   "cell_type": "markdown",
   "id": "ce06c188-1a70-456b-acee-c5205ecd802b",
   "metadata": {},
   "source": [
    "## Author\n",
    "Aayushi Patel\n"
   ]
  },
  {
   "cell_type": "code",
   "execution_count": null,
   "id": "c8ffb83c-72df-4a94-a61b-b06979a62fc5",
   "metadata": {},
   "outputs": [],
   "source": []
  }
 ],
 "metadata": {
  "kernelspec": {
   "display_name": "Python 3 (ipykernel)",
   "language": "python",
   "name": "python3"
  },
  "language_info": {
   "codemirror_mode": {
    "name": "ipython",
    "version": 3
   },
   "file_extension": ".py",
   "mimetype": "text/x-python",
   "name": "python",
   "nbconvert_exporter": "python",
   "pygments_lexer": "ipython3",
   "version": "3.12.4"
  }
 },
 "nbformat": 4,
 "nbformat_minor": 5
}
